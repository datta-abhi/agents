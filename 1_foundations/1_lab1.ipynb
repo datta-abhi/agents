{
 "cells": [
  {
   "cell_type": "markdown",
   "metadata": {},
   "source": [
    "# Welcome to the start of your adventure in Agentic AI"
   ]
  },
  {
   "cell_type": "markdown",
   "metadata": {},
   "source": [
    "<table style=\"margin: 0; text-align: left; width:100%\">\n",
    "    <tr>\n",
    "        <td style=\"width: 150px; height: 150px; vertical-align: middle;\">\n",
    "            <img src=\"../assets/stop.png\" width=\"150\" height=\"150\" style=\"display: block;\" />\n",
    "        </td>\n",
    "        <td>\n",
    "            <h2 style=\"color:#ff7800;\">Are you ready for action??</h2>\n",
    "            <span style=\"color:#ff7800;\">Have you completed all the setup steps in the <a href=\"../setup/\">setup</a> folder?<br/>\n",
    "            Have you checked out the guides in the <a href=\"../guides/01_intro.ipynb\">guides</a> folder?<br/>\n",
    "            Well in that case, you're ready!!\n",
    "            </span>\n",
    "        </td>\n",
    "    </tr>\n",
    "</table>"
   ]
  },
  {
   "cell_type": "markdown",
   "metadata": {},
   "source": [
    "<table style=\"margin: 0; text-align: left; width:100%\">\n",
    "    <tr>\n",
    "        <td style=\"width: 150px; height: 150px; vertical-align: middle;\">\n",
    "            <img src=\"../assets/tools.png\" width=\"150\" height=\"150\" style=\"display: block;\" />\n",
    "        </td>\n",
    "        <td>\n",
    "            <h2 style=\"color:#00bfff;\">This code is a live resource - keep an eye out for my updates</h2>\n",
    "            <span style=\"color:#00bfff;\">I push updates regularly. As people ask questions or have problems, I add more examples and improve explanations. As a result, the code below might not be identical to the videos, as I've added more steps and better comments. Consider this like an interactive book that accompanies the lectures.<br/><br/>\n",
    "            I try to send emails regularly with important updates related to the course. You can find this in the 'Announcements' section of Udemy in the left sidebar. You can also choose to receive my emails via your Notification Settings in Udemy. I'm respectful of your inbox and always try to add value with my emails!\n",
    "            </span>\n",
    "        </td>\n",
    "    </tr>\n",
    "</table>"
   ]
  },
  {
   "cell_type": "markdown",
   "metadata": {},
   "source": [
    "### And please do remember to contact me if I can help\n",
    "\n",
    "And I love to connect: https://www.linkedin.com/in/eddonner/\n",
    "\n",
    "\n",
    "### New to Notebooks like this one? Head over to the guides folder!\n",
    "\n",
    "Just to check you've already added the Python and Jupyter extensions to Cursor, if not already installed:\n",
    "- Open extensions (View >> extensions)\n",
    "- Search for python, and when the results show, click on the ms-python one, and Install it if not already installed\n",
    "- Search for jupyter, and when the results show, click on the Microsoft one, and Install it if not already installed  \n",
    "Then View >> Explorer to bring back the File Explorer.\n",
    "\n",
    "And then:\n",
    "1. Click where it says \"Select Kernel\" near the top right, and select the option called `.venv (Python 3.12.9)` or similar, which should be the first choice or the most prominent choice. You may need to choose \"Python Environments\" first.\n",
    "2. Click in each \"cell\" below, starting with the cell immediately below this text, and press Shift+Enter to run\n",
    "3. Enjoy!\n",
    "\n",
    "After you click \"Select Kernel\", if there is no option like `.venv (Python 3.12.9)` then please do the following:  \n",
    "1. On Mac: From the Cursor menu, choose Settings >> VS Code Settings (NOTE: be sure to select `VSCode Settings` not `Cursor Settings`);  \n",
    "On Windows PC: From the File menu, choose Preferences >> VS Code Settings(NOTE: be sure to select `VSCode Settings` not `Cursor Settings`)  \n",
    "2. In the Settings search bar, type \"venv\"  \n",
    "3. In the field \"Path to folder with a list of Virtual Environments\" put the path to the project root, like C:\\Users\\username\\projects\\agents (on a Windows PC) or /Users/username/projects/agents (on Mac or Linux).  \n",
    "And then try again.\n",
    "\n",
    "Having problems with missing Python versions in that list? Have you ever used Anaconda before? It might be interferring. Quit Cursor, bring up a new command line, and make sure that your Anaconda environment is deactivated:    \n",
    "`conda deactivate`  \n",
    "And if you still have any problems with conda and python versions, it's possible that you will need to run this too:  \n",
    "`conda config --set auto_activate_base false`  \n",
    "and then from within the Agents directory, you should be able to run `uv python list` and see the Python 3.12 version."
   ]
  },
  {
   "cell_type": "code",
   "execution_count": 1,
   "metadata": {},
   "outputs": [],
   "source": [
    "# First let's do an import\n",
    "from IPython.display import Markdown, display\n",
    "from dotenv import load_dotenv"
   ]
  },
  {
   "cell_type": "code",
   "execution_count": 2,
   "metadata": {},
   "outputs": [
    {
     "data": {
      "text/plain": [
       "True"
      ]
     },
     "execution_count": 2,
     "metadata": {},
     "output_type": "execute_result"
    }
   ],
   "source": [
    "# Next it's time to load the API keys into environment variables\n",
    "\n",
    "load_dotenv(override=True)"
   ]
  },
  {
   "cell_type": "code",
   "execution_count": 3,
   "metadata": {},
   "outputs": [
    {
     "name": "stdout",
     "output_type": "stream",
     "text": [
      "OpenAI API Key exists and begins sk-proj-\n"
     ]
    }
   ],
   "source": [
    "# Check the keys\n",
    "\n",
    "import os\n",
    "openai_api_key = os.getenv('OPENAI_API_KEY')\n",
    "\n",
    "if openai_api_key:\n",
    "    print(f\"OpenAI API Key exists and begins {openai_api_key[:8]}\")\n",
    "else:\n",
    "    print(\"OpenAI API Key not set - please head to the troubleshooting guide in the setup folder\")\n",
    "    \n"
   ]
  },
  {
   "cell_type": "code",
   "execution_count": 4,
   "metadata": {},
   "outputs": [],
   "source": [
    "# And now - the all important import statement\n",
    "# If you get an import error - head over to troubleshooting guide\n",
    "\n",
    "from openai import OpenAI"
   ]
  },
  {
   "cell_type": "code",
   "execution_count": 5,
   "metadata": {},
   "outputs": [],
   "source": [
    "# And now we'll create an instance of the OpenAI class\n",
    "# If you're not sure what it means to create an instance of a class - head over to the guides folder!\n",
    "# If you get a NameError - head over to the guides folder to learn about NameErrors\n",
    "\n",
    "openai = OpenAI()"
   ]
  },
  {
   "cell_type": "code",
   "execution_count": 8,
   "metadata": {},
   "outputs": [],
   "source": [
    "# Create a list of messages in the familiar OpenAI format\n",
    "\n",
    "messages = [{\"role\": \"user\", \"content\": \"What is 2+2?\"}]"
   ]
  },
  {
   "cell_type": "code",
   "execution_count": 9,
   "metadata": {},
   "outputs": [
    {
     "data": {
      "text/plain": [
       "ChatCompletion(id='chatcmpl-BlTdbP3RFbBDiM1UPdEUIRQPjZtw4', choices=[Choice(finish_reason='stop', index=0, logprobs=None, message=ChatCompletionMessage(content='2 + 2 equals 4.', refusal=None, role='assistant', annotations=[], audio=None, function_call=None, tool_calls=None))], created=1750655043, model='gpt-4.1-nano-2025-04-14', object='chat.completion', service_tier='default', system_fingerprint='fp_38343a2f8f', usage=CompletionUsage(completion_tokens=8, prompt_tokens=14, total_tokens=22, completion_tokens_details=CompletionTokensDetails(accepted_prediction_tokens=0, audio_tokens=0, reasoning_tokens=0, rejected_prediction_tokens=0), prompt_tokens_details=PromptTokensDetails(audio_tokens=0, cached_tokens=0)))"
      ]
     },
     "execution_count": 9,
     "metadata": {},
     "output_type": "execute_result"
    }
   ],
   "source": [
    "# And now call it! Any problems, head to the troubleshooting guide\n",
    "# This uses GPT 4.1 nano, the incredibly cheap model\n",
    "\n",
    "response = openai.chat.completions.create(\n",
    "    model=\"gpt-4.1-nano\",\n",
    "    messages=messages\n",
    ")\n",
    "response"
   ]
  },
  {
   "cell_type": "code",
   "execution_count": 13,
   "metadata": {},
   "outputs": [
    {
     "data": {
      "text/plain": [
       "'2 + 2 equals 4.'"
      ]
     },
     "execution_count": 13,
     "metadata": {},
     "output_type": "execute_result"
    }
   ],
   "source": [
    "response.choices[0].message.content"
   ]
  },
  {
   "cell_type": "code",
   "execution_count": 14,
   "metadata": {},
   "outputs": [],
   "source": [
    "# And now - let's ask for a question:\n",
    "\n",
    "question = \"Please propose a hard, challenging question to assess someone's IQ. Respond only with the question.\"\n",
    "messages = [{\"role\": \"user\", \"content\": question}]\n"
   ]
  },
  {
   "cell_type": "code",
   "execution_count": 15,
   "metadata": {},
   "outputs": [
    {
     "name": "stdout",
     "output_type": "stream",
     "text": [
      "If five machines take five minutes to produce five widgets, how long would it take 100 machines to produce 100 widgets under the same conditions?\n"
     ]
    }
   ],
   "source": [
    "# ask it - this uses GPT 4.1 mini, still cheap but more powerful than nano\n",
    "\n",
    "response = openai.chat.completions.create(\n",
    "    model=\"gpt-4.1-nano\",\n",
    "    messages=messages\n",
    ")\n",
    "\n",
    "question = response.choices[0].message.content\n",
    "\n",
    "print(question)\n"
   ]
  },
  {
   "cell_type": "code",
   "execution_count": 16,
   "metadata": {},
   "outputs": [],
   "source": [
    "# form a new messages list\n",
    "messages = [{\"role\": \"user\", \"content\": question}]\n"
   ]
  },
  {
   "cell_type": "code",
   "execution_count": 17,
   "metadata": {},
   "outputs": [
    {
     "name": "stdout",
     "output_type": "stream",
     "text": [
      "Let's analyze the problem step-by-step:\n",
      "\n",
      "- **Given:** 5 machines take 5 minutes to produce 5 widgets.\n",
      "  \n",
      "  From this, we can determine the rate of one machine:\n",
      "\n",
      "  Since 5 machines produce 5 widgets in 5 minutes, the total production rate is:\n",
      "  \\[\n",
      "  \\frac{5 \\text{ widgets}}{5 \\text{ minutes}} = 1 \\text{ widget per minute (collectively)}\n",
      "  \\]\n",
      "\n",
      "  Because there are 5 machines working together to get 1 widget per minute, the rate per machine is:\n",
      "  \\[\n",
      "  \\frac{1 \\text{ widget per minute}}{5 \\text{ machines}} = \\frac{1}{5} \\text{ widget per minute per machine}\n",
      "  \\]\n",
      "\n",
      "  In other words, each machine produces one widget in 5 minutes.\n",
      "\n",
      "- **Find:** How long would 100 machines take to produce 100 widgets?\n",
      "\n",
      "  Since each machine produces 1 widget in 5 minutes:\n",
      "  \n",
      "  - 100 machines produce 100 widgets in the same 5 minutes.\n",
      "  \n",
      "**Answer:**\n",
      "\\[\n",
      "\\boxed{5 \\text{ minutes}}\n",
      "\\]\n",
      "\n",
      "It will take 100 machines 5 minutes to produce 100 widgets under the same conditions.\n"
     ]
    }
   ],
   "source": [
    "# Ask it again\n",
    "\n",
    "response = openai.chat.completions.create(\n",
    "    model=\"gpt-4.1-mini\",\n",
    "    messages=messages\n",
    ")\n",
    "\n",
    "answer = response.choices[0].message.content\n",
    "print(answer)\n"
   ]
  },
  {
   "cell_type": "code",
   "execution_count": 18,
   "metadata": {},
   "outputs": [
    {
     "data": {
      "text/markdown": [
       "Let's analyze the problem step-by-step:\n",
       "\n",
       "- **Given:** 5 machines take 5 minutes to produce 5 widgets.\n",
       "  \n",
       "  From this, we can determine the rate of one machine:\n",
       "\n",
       "  Since 5 machines produce 5 widgets in 5 minutes, the total production rate is:\n",
       "  \\[\n",
       "  \\frac{5 \\text{ widgets}}{5 \\text{ minutes}} = 1 \\text{ widget per minute (collectively)}\n",
       "  \\]\n",
       "\n",
       "  Because there are 5 machines working together to get 1 widget per minute, the rate per machine is:\n",
       "  \\[\n",
       "  \\frac{1 \\text{ widget per minute}}{5 \\text{ machines}} = \\frac{1}{5} \\text{ widget per minute per machine}\n",
       "  \\]\n",
       "\n",
       "  In other words, each machine produces one widget in 5 minutes.\n",
       "\n",
       "- **Find:** How long would 100 machines take to produce 100 widgets?\n",
       "\n",
       "  Since each machine produces 1 widget in 5 minutes:\n",
       "  \n",
       "  - 100 machines produce 100 widgets in the same 5 minutes.\n",
       "  \n",
       "**Answer:**\n",
       "\\[\n",
       "\\boxed{5 \\text{ minutes}}\n",
       "\\]\n",
       "\n",
       "It will take 100 machines 5 minutes to produce 100 widgets under the same conditions."
      ],
      "text/plain": [
       "<IPython.core.display.Markdown object>"
      ]
     },
     "metadata": {},
     "output_type": "display_data"
    }
   ],
   "source": [
    "from IPython.display import Markdown, display\n",
    "\n",
    "display(Markdown(answer))\n",
    "\n"
   ]
  },
  {
   "cell_type": "markdown",
   "metadata": {},
   "source": [
    "# Congratulations!\n",
    "\n",
    "That was a small, simple step in the direction of Agentic AI, with your new environment!\n",
    "\n",
    "Next time things get more interesting..."
   ]
  },
  {
   "cell_type": "markdown",
   "metadata": {},
   "source": [
    "<table style=\"margin: 0; text-align: left; width:100%\">\n",
    "    <tr>\n",
    "        <td style=\"width: 150px; height: 150px; vertical-align: middle;\">\n",
    "            <img src=\"../assets/exercise.png\" width=\"150\" height=\"150\" style=\"display: block;\" />\n",
    "        </td>\n",
    "        <td>\n",
    "            <h2 style=\"color:#ff7800;\">Exercise</h2>\n",
    "            <span style=\"color:#ff7800;\">Now try this commercial application:<br/>\n",
    "            First ask the LLM to pick a business area that might be worth exploring for an Agentic AI opportunity.<br/>\n",
    "            Then ask the LLM to present a pain-point in that industry - something challenging that might be ripe for an Agentic solution.<br/>\n",
    "            Finally have 3 third LLM call propose the Agentic AI solution.\n",
    "            </span>\n",
    "        </td>\n",
    "    </tr>\n",
    "</table>"
   ]
  },
  {
   "cell_type": "code",
   "execution_count": 19,
   "metadata": {},
   "outputs": [
    {
     "name": "stdout",
     "output_type": "stream",
     "text": [
      "Healthcare\n"
     ]
    }
   ],
   "source": [
    "# First create the messages:\n",
    "\n",
    "messages = [{\"role\": \"user\", \"content\": \"Pick a business domain which will benefit from Agentic AI integration. Respond only with the business domain.\"}]\n",
    "\n",
    "# Then make the first call:\n",
    "\n",
    "response = openai.chat.completions.create(\n",
    "    model=\"gpt-4.1-mini\",\n",
    "    messages=messages\n",
    ")\n",
    "domain = response.choices[0].message.content\n",
    "print(domain)"
   ]
  },
  {
   "cell_type": "code",
   "execution_count": 20,
   "metadata": {},
   "outputs": [
    {
     "name": "stdout",
     "output_type": "stream",
     "text": [
      "A significant pain-point in the healthcare industry is **care coordination and communication among multiple providers and patients**, especially for chronic disease management.\n",
      "\n",
      "### Why it's challenging:\n",
      "- Patients with chronic conditions often see multiple specialists, primary care physicians, therapists, and other caregivers.\n",
      "- Fragmented communication leads to duplicated tests, inconsistent treatment plans, medication errors, and delayed care.\n",
      "- Providers have limited time and tools to aggregate data, communicate timely updates, and track patient adherence or symptoms.\n",
      "- Patients can feel overwhelmed managing appointments, medications, lifestyle modifications, and navigating the healthcare system on their own.\n",
      "\n",
      "### Why an Agentic solution could help:\n",
      "- An intelligent agent could autonomously gather, synthesize, and update patient data across EHR systems and wearables.\n",
      "- It could proactively coordinate care tasks, remind patients of medications and appointments, and alert providers of anomalies.\n",
      "- By facilitating seamless communication, it could reduce administrative burdens and improve outcomes through timely interventions.\n",
      "- The agent could also personalize care recommendations and patient education, adapting over time to individual needs.\n",
      "\n",
      "In sum, **an Agentic solution that acts as an autonomous care coordinator and patient advocate could alleviate major pain-points in healthcare communication and chronic disease management.**\n"
     ]
    }
   ],
   "source": [
    "messages = [{\"role\": \"user\", \n",
    "            \"content\": f\"Identify a pain-point in {domain} industry - something challenging that might be ripe for an Agentic solution\"}]\n",
    "\n",
    "response = openai.chat.completions.create(\n",
    "    model=\"gpt-4.1-mini\",\n",
    "    messages=messages\n",
    ")\n",
    "\n",
    "pain_point = response.choices[0].message.content\n",
    "print(pain_point)"
   ]
  },
  {
   "cell_type": "code",
   "execution_count": 22,
   "metadata": {},
   "outputs": [
    {
     "name": "stdout",
     "output_type": "stream",
     "text": [
      "Certainly! Here's a detailed proposal for an Agentic AI solution tailored to address the pain point of care coordination and communication in chronic disease management:\n",
      "\n",
      "---\n",
      "\n",
      "### Agentic AI Solution Proposal: **CareNavigator AI**\n",
      "\n",
      "**Overview:**  \n",
      "CareNavigator AI is an autonomous, intelligent agent designed to serve as a centralized care coordinator and patient advocate. It proactively manages data, communication, and care coordination across multiple providers and patients with chronic conditions, aiming to improve health outcomes and reduce the burdens of fragmented care.\n",
      "\n",
      "---\n",
      "\n",
      "### Key Features & Capabilities\n",
      "\n",
      "#### 1. **Autonomous Multi-Source Data Aggregation & Synthesis**\n",
      "- **Integration Across Systems:** Continuously accesses and harmonizes data from EHRs, lab results, pharmacy records, wearable health devices, and patient-reported outcomes.\n",
      "- **Real-Time Updates:** Maintains an up-to-date, comprehensive health profile for each patient, highlighting critical parameters related to their chronic condition(s).\n",
      "- **Semantic Understanding:** Applies natural language processing (NLP) and clinical ontologies to interpret free-text notes, discharge summaries, and messages.\n",
      "\n",
      "#### 2. **Proactive Care Coordination & Task Management**\n",
      "- **Scheduling & Appointment Optimization:** Automatically coordinates appointments among specialists, primary care, and ancillary providers to minimize conflicts and ensure timely follow-ups.\n",
      "- **Test & Treatment Tracking:** Detects gaps or duplications in testing or treatments and suggests consolidation or escalation as needed.\n",
      "- **Medication Management:** Monitors prescriptions, identifies potential interactions, and sends reminders to patients about dosages and refills.\n",
      "\n",
      "#### 3. **Intelligent Communication & Alerts**\n",
      "- **Provider Communication Hub:** Enables secure, asynchronous messaging and alerts among all members of the care team, summarizing pertinent patient data before updates.\n",
      "- **Patient Interface:** Offers a user-friendly conversational interface (app/chatbot) that educates patients, answers questions, and assists with day-to-day self-management.\n",
      "- **Anomaly Detection & Escalation:** Flags concerning symptom reports, vital sign deviations, or non-adherence patterns and alerts providers or care managers for timely intervention.\n",
      "\n",
      "#### 4. **Personalized Education & Behavioral Support**\n",
      "- **Tailored Recommendations:** Uses machine learning to adapt lifestyle, medication, and self-care advice based on patient preferences, history, and response patterns.\n",
      "- **Motivational Coaching:** Sends personalized nudges and motivational messages to improve adherence and engagement using behavioral science insights.\n",
      "- **Resource Navigation:** Helps patients access community resources, support groups, and ancillary services relevant to their condition.\n",
      "\n",
      "---\n",
      "\n",
      "### How Agentic Properties Enable Impact\n",
      "\n",
      "- **Autonomy:** CareNavigator operates independently to reduce provider administrative overhead, freeing clinicians to focus more on direct care.\n",
      "- **Goal-Oriented Planning:** Continuously sets and adjusts personalized care goals (e.g., blood sugar targets, medication adherence rates) adapting to evolving clinical contexts.\n",
      "- **Context Awareness:** Understands clinical guidelines, patient social determinants, and preferences to drive clinically appropriate actions.\n",
      "- **Learning & Adaptation:** Improves coordination strategies over time through reinforcement learning based on outcomes and patient/provider feedback.\n",
      "\n",
      "---\n",
      "\n",
      "### Implementation Considerations\n",
      "\n",
      "- **Data Privacy & Security:** Compliance with HIPAA and GDPR; robust encryption, patient consent management, and audit trails.\n",
      "- **Interoperability:** Use of FHIR APIs and standardized healthcare data models to ensure smooth data exchange with existing healthcare IT infrastructure.\n",
      "- **User Acceptance:** Intuitive interfaces for both providers and patients; clinician input loops for transparency and trust.\n",
      "- **Regulatory & Ethical Oversight:** Clear boundaries for autonomous actions, with clinicians retained as ultimate decision-makers.\n",
      "\n",
      "---\n",
      "\n",
      "### Expected Outcomes\n",
      "\n",
      "- **For Providers:** Reduced redundant data entry, improved visibility into patient status, and earlier detection of clinical issues.\n",
      "- **For Patients:** Less confusion and fragmented care, better self-management support, and enhanced engagement with care plans.\n",
      "- **For Healthcare Systems:** Lower costs through avoidance of unnecessary tests and hospitalizations, improved chronic disease metrics, and higher patient satisfaction.\n",
      "\n",
      "---\n",
      "\n",
      "### Summary\n",
      "\n",
      "By deploying **CareNavigator AI** as an autonomous, intelligent care coordinator, healthcare teams can dramatically improve communication and workflow around complex chronic disease management. The agent’s ability to synthesize multi-source data, orchestrate care tasks, and personalize engagement empowers both providers and patients, addressing critical pain-points in a scalable, high-impact manner.\n",
      "\n",
      "---\n",
      "\n",
      "If you'd like, I can also outline a technical architecture, UX flow, or a pilot study framework to help bring this solution from concept to reality!\n"
     ]
    }
   ],
   "source": [
    "messages = [{\"role\": \"user\", \n",
    "            \"content\": f\"Based on the following pain point, propose an Agentic AI solution: {pain_point}\"}]\n",
    "\n",
    "response = openai.chat.completions.create(\n",
    "    model=\"gpt-4.1-mini\",\n",
    "    messages=messages\n",
    ")\n",
    "\n",
    "solution = response.choices[0].message.content\n",
    "print(solution)"
   ]
  },
  {
   "cell_type": "code",
   "execution_count": 23,
   "metadata": {},
   "outputs": [
    {
     "data": {
      "text/markdown": [
       "Certainly! Here's a detailed proposal for an Agentic AI solution tailored to address the pain point of care coordination and communication in chronic disease management:\n",
       "\n",
       "---\n",
       "\n",
       "### Agentic AI Solution Proposal: **CareNavigator AI**\n",
       "\n",
       "**Overview:**  \n",
       "CareNavigator AI is an autonomous, intelligent agent designed to serve as a centralized care coordinator and patient advocate. It proactively manages data, communication, and care coordination across multiple providers and patients with chronic conditions, aiming to improve health outcomes and reduce the burdens of fragmented care.\n",
       "\n",
       "---\n",
       "\n",
       "### Key Features & Capabilities\n",
       "\n",
       "#### 1. **Autonomous Multi-Source Data Aggregation & Synthesis**\n",
       "- **Integration Across Systems:** Continuously accesses and harmonizes data from EHRs, lab results, pharmacy records, wearable health devices, and patient-reported outcomes.\n",
       "- **Real-Time Updates:** Maintains an up-to-date, comprehensive health profile for each patient, highlighting critical parameters related to their chronic condition(s).\n",
       "- **Semantic Understanding:** Applies natural language processing (NLP) and clinical ontologies to interpret free-text notes, discharge summaries, and messages.\n",
       "\n",
       "#### 2. **Proactive Care Coordination & Task Management**\n",
       "- **Scheduling & Appointment Optimization:** Automatically coordinates appointments among specialists, primary care, and ancillary providers to minimize conflicts and ensure timely follow-ups.\n",
       "- **Test & Treatment Tracking:** Detects gaps or duplications in testing or treatments and suggests consolidation or escalation as needed.\n",
       "- **Medication Management:** Monitors prescriptions, identifies potential interactions, and sends reminders to patients about dosages and refills.\n",
       "\n",
       "#### 3. **Intelligent Communication & Alerts**\n",
       "- **Provider Communication Hub:** Enables secure, asynchronous messaging and alerts among all members of the care team, summarizing pertinent patient data before updates.\n",
       "- **Patient Interface:** Offers a user-friendly conversational interface (app/chatbot) that educates patients, answers questions, and assists with day-to-day self-management.\n",
       "- **Anomaly Detection & Escalation:** Flags concerning symptom reports, vital sign deviations, or non-adherence patterns and alerts providers or care managers for timely intervention.\n",
       "\n",
       "#### 4. **Personalized Education & Behavioral Support**\n",
       "- **Tailored Recommendations:** Uses machine learning to adapt lifestyle, medication, and self-care advice based on patient preferences, history, and response patterns.\n",
       "- **Motivational Coaching:** Sends personalized nudges and motivational messages to improve adherence and engagement using behavioral science insights.\n",
       "- **Resource Navigation:** Helps patients access community resources, support groups, and ancillary services relevant to their condition.\n",
       "\n",
       "---\n",
       "\n",
       "### How Agentic Properties Enable Impact\n",
       "\n",
       "- **Autonomy:** CareNavigator operates independently to reduce provider administrative overhead, freeing clinicians to focus more on direct care.\n",
       "- **Goal-Oriented Planning:** Continuously sets and adjusts personalized care goals (e.g., blood sugar targets, medication adherence rates) adapting to evolving clinical contexts.\n",
       "- **Context Awareness:** Understands clinical guidelines, patient social determinants, and preferences to drive clinically appropriate actions.\n",
       "- **Learning & Adaptation:** Improves coordination strategies over time through reinforcement learning based on outcomes and patient/provider feedback.\n",
       "\n",
       "---\n",
       "\n",
       "### Implementation Considerations\n",
       "\n",
       "- **Data Privacy & Security:** Compliance with HIPAA and GDPR; robust encryption, patient consent management, and audit trails.\n",
       "- **Interoperability:** Use of FHIR APIs and standardized healthcare data models to ensure smooth data exchange with existing healthcare IT infrastructure.\n",
       "- **User Acceptance:** Intuitive interfaces for both providers and patients; clinician input loops for transparency and trust.\n",
       "- **Regulatory & Ethical Oversight:** Clear boundaries for autonomous actions, with clinicians retained as ultimate decision-makers.\n",
       "\n",
       "---\n",
       "\n",
       "### Expected Outcomes\n",
       "\n",
       "- **For Providers:** Reduced redundant data entry, improved visibility into patient status, and earlier detection of clinical issues.\n",
       "- **For Patients:** Less confusion and fragmented care, better self-management support, and enhanced engagement with care plans.\n",
       "- **For Healthcare Systems:** Lower costs through avoidance of unnecessary tests and hospitalizations, improved chronic disease metrics, and higher patient satisfaction.\n",
       "\n",
       "---\n",
       "\n",
       "### Summary\n",
       "\n",
       "By deploying **CareNavigator AI** as an autonomous, intelligent care coordinator, healthcare teams can dramatically improve communication and workflow around complex chronic disease management. The agent’s ability to synthesize multi-source data, orchestrate care tasks, and personalize engagement empowers both providers and patients, addressing critical pain-points in a scalable, high-impact manner.\n",
       "\n",
       "---\n",
       "\n",
       "If you'd like, I can also outline a technical architecture, UX flow, or a pilot study framework to help bring this solution from concept to reality!"
      ],
      "text/plain": [
       "<IPython.core.display.Markdown object>"
      ]
     },
     "metadata": {},
     "output_type": "display_data"
    }
   ],
   "source": [
    "display(Markdown(solution))\n"
   ]
  },
  {
   "cell_type": "markdown",
   "metadata": {},
   "source": []
  }
 ],
 "metadata": {
  "kernelspec": {
   "display_name": ".venv",
   "language": "python",
   "name": "python3"
  },
  "language_info": {
   "codemirror_mode": {
    "name": "ipython",
    "version": 3
   },
   "file_extension": ".py",
   "mimetype": "text/x-python",
   "name": "python",
   "nbconvert_exporter": "python",
   "pygments_lexer": "ipython3",
   "version": "3.12.1"
  }
 },
 "nbformat": 4,
 "nbformat_minor": 2
}
